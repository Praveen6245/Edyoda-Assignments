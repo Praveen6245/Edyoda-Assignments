{
 "cells": [
  {
   "cell_type": "markdown",
   "id": "f1e9fb91",
   "metadata": {},
   "source": [
    "# Lets Play With Fibonacci"
   ]
  },
  {
   "cell_type": "code",
   "execution_count": null,
   "id": "fef0f8c4",
   "metadata": {},
   "outputs": [
    {
     "name": "stdout",
     "output_type": "stream",
     "text": [
      "1\n",
      "2\n",
      "3\n",
      "5\n",
      "8\n",
      "13\n",
      "21\n",
      "34\n"
     ]
    }
   ],
   "source": [
    "a=0\n",
    "b=1\n",
    "while(1):\n",
    "    c = a + b\n",
    "    a = b\n",
    "    b = c\n",
    "    if(b<=50):\n",
    "        print(b)"
   ]
  }
 ],
 "metadata": {
  "kernelspec": {
   "display_name": "Python 3",
   "language": "python",
   "name": "python3"
  },
  "language_info": {
   "codemirror_mode": {
    "name": "ipython",
    "version": 3
   },
   "file_extension": ".py",
   "mimetype": "text/x-python",
   "name": "python",
   "nbconvert_exporter": "python",
   "pygments_lexer": "ipython3",
   "version": "3.8.8"
  }
 },
 "nbformat": 4,
 "nbformat_minor": 5
}
